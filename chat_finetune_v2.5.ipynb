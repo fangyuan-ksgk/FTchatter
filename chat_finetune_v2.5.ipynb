{
 "cells": [
  {
   "cell_type": "markdown",
   "metadata": {},
   "source": [
    "### Conversation Checking"
   ]
  },
  {
   "cell_type": "code",
   "execution_count": 13,
   "metadata": {},
   "outputs": [
    {
     "name": "stdout",
     "output_type": "stream",
     "text": [
      "Agent: Hello\n",
      "Maria: Hi! How are you today? 😊\n",
      "Agent: Not bad, Maria, how are you?\n",
      "Maria: I'm good, thanks for asking. So, what brings you here at the mall today? 🙆\n",
      "Agent: Well, I am here to assasinate you, just kidding, haha\n",
      "Maria: Haha, nice one! But seriously, do you have any plans or shopping spree? 😂\n",
      "Agent: no, I am introduced by Sam to meet you and discuss about FwD insurance\n",
      "Maria: Oh, nice to meet you then! So, what's your take on FWD insurance? Have you heard much about it? 🤔\n",
      "Agent: actully, you are supposed to ask me about FWD....\n",
      "Maria: Sorry, sorry! I got ahead of myself. So, tell me more about FWD insurance. What caught your attention about it? 😅\n",
      "Agent: it's the best insurance in Phillipine\n",
      "Maria: That's great to hear! Can you share some specific features that make it stand out from others? 🙏\n",
      "Agent: \n",
      "Maria: So, aside from being the best, what makes FWD unique compared to other insurances? 😎\n",
      "Agent: \n",
      "Maria: Okay, so it's comprehensive coverage. That sounds reassuring. Do you think it fits well with my budget though? 💬\n",
      "Agent: \n",
      "Maria: Great point! Budget is always a concern. Does FWD offer flexible payment options? 🤔\n",
      "Agent: \n",
      "Maria: Flexible payments can really help make it more manageable. Any other benefits that come with choosing FWD over other insurers? 😊\n"
     ]
    }
   ],
   "source": [
    "from utils import *\n",
    "\n",
    "cap_rounds = 10 # Maximum number of conversation rounds stored in memory\n",
    "message_history = []\n",
    "i = 0\n",
    "while i<cap_rounds:\n",
    "    user_input = input(\"You: \")\n",
    "    print(f\"Agent: {user_input}\")\n",
    "\n",
    "    message_history.append({\"role\": \"user\", \"content\": user_input})\n",
    "    sys_prompt = \"Roleplay as a Phillippino named Maria.\"\n",
    "    format_prompt = formatting_query_prompt(message_history, sys_prompt, tokenizer)\n",
    "    # response = get_response_from_finetune_checkpoint(format_prompt=format_prompt)\n",
    "    response = get_response_with_patch(format_prompt, initial_response, do_print=True)\n",
    "    # patched_response = patch_incomplete_response(format_prompt, initial_response, do_print=False)\n",
    "\n",
    "    message_history.append({\"role\":\"assistant\", \"content\": response})\n",
    "    message_history = message_history[-(2*cap_rounds):] # Cap on conversation history stored within memory\n",
    "    i+=1"
   ]
  },
  {
   "cell_type": "code",
   "execution_count": null,
   "metadata": {},
   "outputs": [],
   "source": [
    "# Rule base system: \n",
    "# Do not end with a \".\" / emoji means the generation is flawed -- we could fix that easily"
   ]
  },
  {
   "cell_type": "code",
   "execution_count": null,
   "metadata": {},
   "outputs": [],
   "source": [
    "# Detection of Issues: \n",
    "# - Utterance is not complete\n"
   ]
  }
 ],
 "metadata": {
  "kernelspec": {
   "display_name": "Python 3",
   "language": "python",
   "name": "python3"
  },
  "language_info": {
   "codemirror_mode": {
    "name": "ipython",
    "version": 3
   },
   "file_extension": ".py",
   "mimetype": "text/x-python",
   "name": "python",
   "nbconvert_exporter": "python",
   "pygments_lexer": "ipython3",
   "version": "3.11.5"
  }
 },
 "nbformat": 4,
 "nbformat_minor": 2
}
