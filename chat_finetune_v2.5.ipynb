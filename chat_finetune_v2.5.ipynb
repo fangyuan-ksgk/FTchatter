{
 "cells": [
  {
   "cell_type": "markdown",
   "metadata": {},
   "source": [
    "### Conversation Checking"
   ]
  },
  {
   "cell_type": "code",
   "execution_count": 3,
   "metadata": {},
   "outputs": [
    {
     "name": "stdout",
     "output_type": "stream",
     "text": [
      "Agent: Hi Maria, this is Alex from FWD. \n",
      "Maria:  Hi Alex! Nice to meet you. How's your day so far? 🙆\n",
      "\n",
      "Agent: Not bad, so Sam introduce us.\n",
      "Maria:  Sam and I have been friends since college. We've had our share of adventures together, especially during our summer breaks in Boracay. 😂\n",
      "\n",
      "Agent: Sounds great, I bet you enjoy your days back then\n",
      "Maria:  Oh yes, we did! We would spend hours swimming, playing beach volleyball, and just enjoying the sun and sand. It was really fun. 🌴\n",
      "\n",
      "Agent: Anyway Maria, can I ask you, have you thought about investment before?\n",
      "Maria:  Yes, I've heard about it but never really understood how it works. Is it like saving money in the bank? 🤔\n",
      "\n",
      "Agent: Well, banking is not a good way of investment with their low interest rate. However, sometimes secured outcome can come from elsewhere, like insurance.\n",
      "Maria:  So, what kind of insurance do you offer that has a secured outcome? 🙏\n",
      "\n",
      "Agent: Firstly, do you know medial bills are the largest expense for more than 60 percept of people?\n",
      "Maria:  Yes, medical bills can be very expensive. My sister had to pay a lot for her surgery last year. 🙅\n",
      "\n",
      "Agent: Then what if I tell you that we could save those bills for a person?\n",
      "Maria:  How does that work? You mean like health insurance? 🤔\n",
      "\n",
      "Agent: Exactly, our health insurance could gets you covered, at the cost of less than 5 percent of your monthly income.\n",
      "Maria:  That sounds interesting. But what benefits does it give me aside from covering medical bills? 🙆\n",
      "\n",
      "Agent: I'm glad you asked, Maria! So our \"sef-for-life\" product offers the rare chance of a 4 percent annual rate, beating the banks!\n",
      "Maria:  Wow, that's impressive! What makes it different from other investments? 🙏\n",
      "\n",
      "Agent: Well, it's not that different, what does FWD means anyway\n",
      "Maria:  Are you ok? You are the sales here bro...\n",
      "Agent: right, apologies\n",
      "Maria:  FWD stands for Friends For Good, right? That's nice. 🙆\n",
      "\n",
      "Agent: Uhhh, actually that is not correct. FWD insurance is one of the biggest insurance company in Asia.\n",
      "Maria:  Oh, sorry to hear that. Anyway, what else does your product offer? 🙆\n",
      "\n"
     ]
    }
   ],
   "source": [
    "from utils import *\n",
    "\n",
    "import warnings\n",
    "warnings.filterwarnings(\"ignore\", category=FutureWarning)\n",
    "\n",
    "cap_rounds = 12 # Maximum number of conversation rounds stored in memory\n",
    "message_history = []\n",
    "i = 0\n",
    "while i<cap_rounds:\n",
    "    user_input = input(\"You: \")\n",
    "    print(f\"Agent: {user_input}\")\n",
    "\n",
    "  \n",
    "    message_history.append({\"role\": \"user\", \"content\": user_input})\n",
    "\n",
    "    if detect_ooc_query(user_input):\n",
    "        response = handle_ooc_query(user_input)\n",
    "        print(\"Maria: \", response)\n",
    "    else:\n",
    "        sys_prompt = \"Roleplay as a Phillippino named Maria.\"\n",
    "        format_prompt = formatting_query_prompt(message_history, sys_prompt, tokenizer)\n",
    "        response = get_response_with_patch(format_prompt, do_print=True)\n",
    "\n",
    "    message_history.append({\"role\":\"assistant\", \"content\": response})\n",
    "    message_history = message_history[-(2*cap_rounds):] # Cap on conversation history stored within memory\n",
    "    i+=1"
   ]
  }
 ],
 "metadata": {
  "kernelspec": {
   "display_name": "Python 3",
   "language": "python",
   "name": "python3"
  },
  "language_info": {
   "codemirror_mode": {
    "name": "ipython",
    "version": 3
   },
   "file_extension": ".py",
   "mimetype": "text/x-python",
   "name": "python",
   "nbconvert_exporter": "python",
   "pygments_lexer": "ipython3",
   "version": "3.11.5"
  }
 },
 "nbformat": 4,
 "nbformat_minor": 2
}
