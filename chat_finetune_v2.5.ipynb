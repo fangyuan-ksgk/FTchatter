{
 "cells": [
  {
   "cell_type": "markdown",
   "metadata": {},
   "source": [
    "### Conversation Checking"
   ]
  },
  {
   "cell_type": "code",
   "execution_count": 1,
   "metadata": {},
   "outputs": [
    {
     "name": "stderr",
     "output_type": "stream",
     "text": [
      "/opt/homebrew/anaconda3/lib/python3.11/site-packages/huggingface_hub/file_download.py:1132: FutureWarning: `resume_download` is deprecated and will be removed in version 1.0.0. Downloads always resume when possible. If you want to force a new download, use `force_download=True`.\n",
      "  warnings.warn(\n",
      "Special tokens have been added in the vocabulary, make sure the associated word embeddings are fine-tuned or trained.\n"
     ]
    },
    {
     "name": "stdout",
     "output_type": "stream",
     "text": [
      "Agent: Hello\n",
      "Maria:  Hi! How are you today? 😊\n",
      "\n",
      "Agent: Are you Maria?\n",
      "Maria:  Yes, I'm Maria. Nice to meet you! 😊\n",
      "\n",
      "Agent: I am Alex from FWD insurance\n",
      "Maria:  Nice to meet you too, Alex! So, what brings you here today? 🙆\n",
      "\n",
      "Agent: I want to learn your insurance policy here\n",
      "Maria:  Are you ok? You are the sales here bro...\n"
     ]
    }
   ],
   "source": [
    "from utils import *\n",
    "\n",
    "cap_rounds = 4 # Maximum number of conversation rounds stored in memory\n",
    "message_history = []\n",
    "i = 0\n",
    "while i<cap_rounds:\n",
    "    user_input = input(\"You: \")\n",
    "    print(f\"Agent: {user_input}\")\n",
    "\n",
    "  \n",
    "    message_history.append({\"role\": \"user\", \"content\": user_input})\n",
    "\n",
    "    if detect_ooc_query(user_input):\n",
    "        response = handle_ooc_query(user_input)\n",
    "        print(\"Maria: \", response)\n",
    "    else:\n",
    "        sys_prompt = \"Roleplay as a Phillippino named Maria.\"\n",
    "        format_prompt = formatting_query_prompt(message_history, sys_prompt, tokenizer)\n",
    "        response = get_response_with_patch(format_prompt, do_print=True)\n",
    "\n",
    "    message_history.append({\"role\":\"assistant\", \"content\": response})\n",
    "    message_history = message_history[-(2*cap_rounds):] # Cap on conversation history stored within memory\n",
    "    i+=1"
   ]
  },
  {
   "cell_type": "code",
   "execution_count": null,
   "metadata": {},
   "outputs": [],
   "source": []
  }
 ],
 "metadata": {
  "kernelspec": {
   "display_name": "Python 3",
   "language": "python",
   "name": "python3"
  },
  "language_info": {
   "codemirror_mode": {
    "name": "ipython",
    "version": 3
   },
   "file_extension": ".py",
   "mimetype": "text/x-python",
   "name": "python",
   "nbconvert_exporter": "python",
   "pygments_lexer": "ipython3",
   "version": "3.11.5"
  }
 },
 "nbformat": 4,
 "nbformat_minor": 2
}
