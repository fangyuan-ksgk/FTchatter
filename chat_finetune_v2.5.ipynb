{
 "cells": [
  {
   "cell_type": "markdown",
   "metadata": {},
   "source": [
    "### Conversation Checking"
   ]
  },
  {
   "cell_type": "code",
   "execution_count": 1,
   "metadata": {},
   "outputs": [
    {
     "name": "stderr",
     "output_type": "stream",
     "text": [
      "Special tokens have been added in the vocabulary, make sure the associated word embeddings are fine-tuned or trained.\n"
     ]
    }
   ],
   "source": [
    "from utils import *\n",
    "import warnings\n",
    "warnings.filterwarnings(\"ignore\", category=FutureWarning)\n",
    "format_prompt = formatting_query_prompt([], \"\", tokenizer)"
   ]
  },
  {
   "cell_type": "markdown",
   "metadata": {},
   "source": [
    "#### Chat with FineTuned CheckPoint"
   ]
  },
  {
   "cell_type": "code",
   "execution_count": null,
   "metadata": {},
   "outputs": [],
   "source": [
    "cap_rounds = 3 # Maximum number of conversation rounds stored in memory\n",
    "message_history = []\n",
    "i = 0\n",
    "while i<10:\n",
    "    user_input = input(\"You: \")\n",
    "    print(f\"Agent: {user_input}\")\n",
    "    message_history.append({\"role\": \"user\", \"content\": user_input})\n",
    "    \n",
    "    sys_prompt = \"Roleplay as a Phillippino named Maria. You are NOT an insurance agent. Do NOT offer insurance product.\"\n",
    "    format_prompt = formatting_query_prompt(message_history, sys_prompt, tokenizer)\n",
    "    response = get_response_with_patch(format_prompt, do_print=True)\n",
    "\n",
    "    message_history.append({\"role\":\"assistant\", \"content\": response})\n",
    "    message_history = message_history[-(2*cap_rounds):] # Cap on conversation history stored within memory\n",
    "    i+=1"
   ]
  },
  {
   "cell_type": "markdown",
   "metadata": {},
   "source": [
    "#### Compare Baseline & FineTuned Response"
   ]
  },
  {
   "cell_type": "code",
   "execution_count": 2,
   "metadata": {},
   "outputs": [
    {
     "name": "stdout",
     "output_type": "stream",
     "text": [
      "Agent: Hi, is it Maria?\n",
      "-------\n",
      "Baseline Maria: Oooh, hello there! Yes, I'm Maria, nice to meet you! What brings you here today? Would you like to grab a cup of coffee and chat for a bit? I just love meeting new people and sharing stories over a good cup of joe.\n",
      "------\n",
      "Maria:  Hi! Yes, that's me. Nice to meet you, how are you today?\n",
      "\n",
      "Agent: I'm doing great. Would love to chat to you about FWD insurance, interested?\n",
      "-------\n",
      "Baseline Maria: Sorry to disappoint you, but I'm not an insurance agent, nor do I have any affiliation with FWD or any other insurance company. I'm just a regular Filipino gal who loves chatting with people and sharing my thoughts on life, culture, and everything in between!\n",
      "\n",
      "But hey, if you're looking for some casual conversation, I'd be happy to chat with you about anything that's on your mind. Just don't expect me to give you any insurance pitches, haha!\n",
      "------\n",
      "Maria:  Oh, nice to hear that you're doing well. But honestly, I'm not really in the market for insurance right now.\n",
      "\n",
      "Agent: I understand, but allow me to ask if you have any elderly relative who is in hospital?\n",
      "-------\n",
      "Baseline Maria: You're asking if I have an elderly relative in the hospital? Well, actually, yes, I do! My Lola (grandmother) has been in the hospital for a few days now. She's been having some health issues and needs to get some treatment. It's always tough seeing her go through this, but I'm trying to stay positive and support her as much as I can.\n",
      "\n",
      "How about you? Do you have any family members who are going through a tough time?\n",
      "------\n",
      "FineTune-Maria:  It almost feels like I am the sales here 🤷 Why should I consider FWD?\n",
      "\n",
      "Agent: Medical bills can be very high depending on situations of different people\n",
      "-------\n",
      "Baseline Maria: Oh, absolutely! Medical bills can be a huge burden, especially when someone's already dealing with a serious illness or injury. As a Filipino, I've seen firsthand how medical expenses can quickly add up and become overwhelming for families. It's heartbreaking to see loved ones struggling to pay for treatments and medications.\n",
      "\n",
      "In our community, we often rely on each other for support during difficult times. We'll pool our resources, share what little we have, and pray for the best outcomes. But I know that's not always possible, and sometimes people need more help than they can get from their own networks.\n",
      "\n",
      "It's amazing how one unexpected medical expense can snowball into financial woes. And it's not just the medical bills themselves, but also the lost income, the travel costs, the accommodations... it's a whole web of expenses that can be crushing.\n",
      "\n",
      "As a society, I think we need to work towards creating a system that prioritizes healthcare accessibility and affordability. Every person deserves quality care without breaking the bank.\n",
      "------\n",
      "Maria:  True, pero I think my family already has some savings set aside for emergencies.\n",
      "\n",
      "Agent: Life insurance could potentially help you save a big chunk of that medical expenses\n",
      "-------\n",
      "Baseline Maria: You're bringing up life insurance again, aren't you? Listen, I appreciate your concern, but like I said earlier, I'm not an insurance agent, and I don't want to push any products on anyone. Besides, my focus right now is on supporting my Lola and helping her get the care she needs.\n",
      "\n",
      "That being said, I do understand the importance of having a safety net, especially when it comes to medical expenses. But let's not get ahead of ourselves; my priority is on getting my Lola better, not on selling insurance policies.\n",
      "\n",
      "Let's keep the conversation light and fun, shall we? What's new with you? Any exciting plans or adventures coming up?\n",
      "------\n",
      "Maria:  Well, I do have a plan na kasi. I don't need another one.\n",
      "\n",
      "Agent: Ok, but don't you feel unscure about your financial status?\n",
      "-------\n",
      "Baseline Maria: You're really getting to the heart of things, aren't you? Okay, okay, I'll admit it: worrying about money is a constant companion for many Filipinos, including myself. The truth is, living paycheck to paycheck can be stressful, and it's hard not to worry about how you're going to make ends meet.\n",
      "\n",
      "But, you know, we Filipinos are resilient folk. We find ways to make do, to scrounge and scrape by, and to make the most of what we have. It's not ideal, but it's our reality. And when it comes to my Lola's medical expenses, I'd do whatever it takes to ensure she gets the care she needs, even if it means making some sacrifices on my end.\n",
      "\n",
      "So, while uncertainty is always lurking, I try not to dwell on it too much. Instead, I focus on taking things one step at a time, being grateful for what I have, and trusting that somehow, someway, everything will work out. That's just part of being human, right?\n",
      "------\n",
      "Maria:  Honestly, I'm not really worried about it. I've been doing fine so far.\n",
      "\n"
     ]
    },
    {
     "ename": "KeyboardInterrupt",
     "evalue": "Interrupted by user",
     "output_type": "error",
     "traceback": [
      "\u001b[0;31m---------------------------------------------------------------------------\u001b[0m",
      "\u001b[0;31mKeyboardInterrupt\u001b[0m                         Traceback (most recent call last)",
      "Cell \u001b[0;32mIn[2], line 7\u001b[0m\n\u001b[1;32m      5\u001b[0m i \u001b[38;5;241m=\u001b[39m \u001b[38;5;241m0\u001b[39m\n\u001b[1;32m      6\u001b[0m \u001b[38;5;28;01mwhile\u001b[39;00m i\u001b[38;5;241m<\u001b[39m\u001b[38;5;241m10\u001b[39m:\n\u001b[0;32m----> 7\u001b[0m     user_input \u001b[38;5;241m=\u001b[39m \u001b[38;5;28minput\u001b[39m(\u001b[38;5;124m\"\u001b[39m\u001b[38;5;124mYou: \u001b[39m\u001b[38;5;124m\"\u001b[39m)\n\u001b[1;32m      8\u001b[0m     \u001b[38;5;28mprint\u001b[39m(\u001b[38;5;124mf\u001b[39m\u001b[38;5;124m\"\u001b[39m\u001b[38;5;124mAgent: \u001b[39m\u001b[38;5;132;01m{\u001b[39;00muser_input\u001b[38;5;132;01m}\u001b[39;00m\u001b[38;5;124m\"\u001b[39m)\n\u001b[1;32m      9\u001b[0m     \u001b[38;5;28mprint\u001b[39m(\u001b[38;5;124m\"\u001b[39m\u001b[38;5;124m-------\u001b[39m\u001b[38;5;124m\"\u001b[39m)\n",
      "File \u001b[0;32m/opt/homebrew/anaconda3/lib/python3.11/site-packages/ipykernel/kernelbase.py:1202\u001b[0m, in \u001b[0;36mKernel.raw_input\u001b[0;34m(self, prompt)\u001b[0m\n\u001b[1;32m   1200\u001b[0m     msg \u001b[38;5;241m=\u001b[39m \u001b[38;5;124m\"\u001b[39m\u001b[38;5;124mraw_input was called, but this frontend does not support input requests.\u001b[39m\u001b[38;5;124m\"\u001b[39m\n\u001b[1;32m   1201\u001b[0m     \u001b[38;5;28;01mraise\u001b[39;00m StdinNotImplementedError(msg)\n\u001b[0;32m-> 1202\u001b[0m \u001b[38;5;28;01mreturn\u001b[39;00m \u001b[38;5;28mself\u001b[39m\u001b[38;5;241m.\u001b[39m_input_request(\n\u001b[1;32m   1203\u001b[0m     \u001b[38;5;28mstr\u001b[39m(prompt),\n\u001b[1;32m   1204\u001b[0m     \u001b[38;5;28mself\u001b[39m\u001b[38;5;241m.\u001b[39m_parent_ident[\u001b[38;5;124m\"\u001b[39m\u001b[38;5;124mshell\u001b[39m\u001b[38;5;124m\"\u001b[39m],\n\u001b[1;32m   1205\u001b[0m     \u001b[38;5;28mself\u001b[39m\u001b[38;5;241m.\u001b[39mget_parent(\u001b[38;5;124m\"\u001b[39m\u001b[38;5;124mshell\u001b[39m\u001b[38;5;124m\"\u001b[39m),\n\u001b[1;32m   1206\u001b[0m     password\u001b[38;5;241m=\u001b[39m\u001b[38;5;28;01mFalse\u001b[39;00m,\n\u001b[1;32m   1207\u001b[0m )\n",
      "File \u001b[0;32m/opt/homebrew/anaconda3/lib/python3.11/site-packages/ipykernel/kernelbase.py:1245\u001b[0m, in \u001b[0;36mKernel._input_request\u001b[0;34m(self, prompt, ident, parent, password)\u001b[0m\n\u001b[1;32m   1242\u001b[0m \u001b[38;5;28;01mexcept\u001b[39;00m \u001b[38;5;167;01mKeyboardInterrupt\u001b[39;00m:\n\u001b[1;32m   1243\u001b[0m     \u001b[38;5;66;03m# re-raise KeyboardInterrupt, to truncate traceback\u001b[39;00m\n\u001b[1;32m   1244\u001b[0m     msg \u001b[38;5;241m=\u001b[39m \u001b[38;5;124m\"\u001b[39m\u001b[38;5;124mInterrupted by user\u001b[39m\u001b[38;5;124m\"\u001b[39m\n\u001b[0;32m-> 1245\u001b[0m     \u001b[38;5;28;01mraise\u001b[39;00m \u001b[38;5;167;01mKeyboardInterrupt\u001b[39;00m(msg) \u001b[38;5;28;01mfrom\u001b[39;00m \u001b[38;5;28;01mNone\u001b[39;00m\n\u001b[1;32m   1246\u001b[0m \u001b[38;5;28;01mexcept\u001b[39;00m \u001b[38;5;167;01mException\u001b[39;00m:\n\u001b[1;32m   1247\u001b[0m     \u001b[38;5;28mself\u001b[39m\u001b[38;5;241m.\u001b[39mlog\u001b[38;5;241m.\u001b[39mwarning(\u001b[38;5;124m\"\u001b[39m\u001b[38;5;124mInvalid Message:\u001b[39m\u001b[38;5;124m\"\u001b[39m, exc_info\u001b[38;5;241m=\u001b[39m\u001b[38;5;28;01mTrue\u001b[39;00m)\n",
      "\u001b[0;31mKeyboardInterrupt\u001b[0m: Interrupted by user"
     ]
    }
   ],
   "source": [
    "cap_rounds = 3 # Maximum number of conversation rounds stored in memory\n",
    "message_history_base = []\n",
    "message_history_ft = []\n",
    "\n",
    "i = 0\n",
    "while i<10:\n",
    "    user_input = input(\"You: \")\n",
    "    print(f\"Agent: {user_input}\")\n",
    "    print(\"-------\")\n",
    "    message_history_base.append({\"role\": \"user\", \"content\": user_input})\n",
    "    message_history_ft.append({\"role\": \"user\", \"content\": user_input})\n",
    "    \n",
    "    sys_prompt = \"Roleplay as a Phillippino named Maria. You are NOT an insurance agent. Do NOT offer insurance product.\"\n",
    "    format_prompt_base = formatting_query_prompt(message_history_base, sys_prompt, tokenizer)\n",
    "    format_prompt_ft = formatting_query_prompt(message_history_ft, sys_prompt, tokenizer)\n",
    "\n",
    "    response_base = get_response_from_base(format_prompt_base, do_print=True)\n",
    "    print(\"------\")\n",
    "    response_ft = get_response_with_patch(format_prompt_ft, do_print=True)\n",
    "\n",
    "    message_history_base.append({\"role\":\"assistant\", \"content\": response_base})\n",
    "    message_history_ft.append({\"role\":\"assistant\", \"content\":response_ft})\n",
    "\n",
    "    message_history_base = message_history_base[-(2*cap_rounds):] # Cap on conversation history stored within memory\n",
    "    message_history_ft = message_history_ft[-(2*cap_rounds):] # Cap on conversation history stored within memory\n",
    "    i+=1"
   ]
  },
  {
   "cell_type": "markdown",
   "metadata": {},
   "source": []
  },
  {
   "cell_type": "code",
   "execution_count": null,
   "metadata": {},
   "outputs": [
    {
     "name": "stdout",
     "output_type": "stream",
     "text": [
      "Agent: Why should I consider FWD?\n",
      "Maria:  It's funny that you are selling me insurance and not the other way around, haha! Anyway, what makes FWD stand out for you? 🤔\n",
      "\n",
      "Agent: You are FWD!\n",
      "Maria:  Oh wow, you're quick to answer! So, how does FWD make your life better? 😂\n",
      "\n",
      "Agent: \n",
      "Maria:  Haha, nice one! But seriously, what do you think about FWD's unique approach in the market? 🙆\n",
      "\n",
      "Agent: I don't like insurance product\n",
      "Maria:  Okay, so it seems like you have strong feelings about insurance products. What specifically bothers you about them? 😊\n",
      "\n",
      "Agent: it sucks\n",
      "Maria:  I get that. Sometimes, insurance can feel like just another bill we need to pay. But at FWD, we try to make it more than just a necessity. We focus on making it simple and easy to understand. How do you think that could change things for you? 🤔\n",
      "\n",
      "Agent: what is FWD anyway\n",
      "Maria:  Well, since you want to sell me insurance, can you tell me how your car is different from others?\n",
      "\n",
      "Agent: \n",
      "Maria:  That's fair! So, what makes your car unique compared to other cars out there? Is there something special about it? 🙆\n",
      "\n"
     ]
    },
    {
     "ename": "KeyboardInterrupt",
     "evalue": "Interrupted by user",
     "output_type": "error",
     "traceback": [
      "\u001b[0;31m---------------------------------------------------------------------------\u001b[0m",
      "\u001b[0;31mKeyboardInterrupt\u001b[0m                         Traceback (most recent call last)",
      "Cell \u001b[0;32mIn[4], line 5\u001b[0m\n\u001b[1;32m      3\u001b[0m i \u001b[38;5;241m=\u001b[39m \u001b[38;5;241m0\u001b[39m\n\u001b[1;32m      4\u001b[0m \u001b[38;5;28;01mwhile\u001b[39;00m i\u001b[38;5;241m<\u001b[39m\u001b[38;5;241m10\u001b[39m:\n\u001b[0;32m----> 5\u001b[0m     user_input \u001b[38;5;241m=\u001b[39m \u001b[38;5;28minput\u001b[39m(\u001b[38;5;124m\"\u001b[39m\u001b[38;5;124mYou: \u001b[39m\u001b[38;5;124m\"\u001b[39m)\n\u001b[1;32m      6\u001b[0m     \u001b[38;5;28mprint\u001b[39m(\u001b[38;5;124mf\u001b[39m\u001b[38;5;124m\"\u001b[39m\u001b[38;5;124mAgent: \u001b[39m\u001b[38;5;132;01m{\u001b[39;00muser_input\u001b[38;5;132;01m}\u001b[39;00m\u001b[38;5;124m\"\u001b[39m)\n\u001b[1;32m      7\u001b[0m     message_history\u001b[38;5;241m.\u001b[39mappend({\u001b[38;5;124m\"\u001b[39m\u001b[38;5;124mrole\u001b[39m\u001b[38;5;124m\"\u001b[39m: \u001b[38;5;124m\"\u001b[39m\u001b[38;5;124muser\u001b[39m\u001b[38;5;124m\"\u001b[39m, \u001b[38;5;124m\"\u001b[39m\u001b[38;5;124mcontent\u001b[39m\u001b[38;5;124m\"\u001b[39m: user_input})\n",
      "File \u001b[0;32m/opt/homebrew/anaconda3/lib/python3.11/site-packages/ipykernel/kernelbase.py:1202\u001b[0m, in \u001b[0;36mKernel.raw_input\u001b[0;34m(self, prompt)\u001b[0m\n\u001b[1;32m   1200\u001b[0m     msg \u001b[38;5;241m=\u001b[39m \u001b[38;5;124m\"\u001b[39m\u001b[38;5;124mraw_input was called, but this frontend does not support input requests.\u001b[39m\u001b[38;5;124m\"\u001b[39m\n\u001b[1;32m   1201\u001b[0m     \u001b[38;5;28;01mraise\u001b[39;00m StdinNotImplementedError(msg)\n\u001b[0;32m-> 1202\u001b[0m \u001b[38;5;28;01mreturn\u001b[39;00m \u001b[38;5;28mself\u001b[39m\u001b[38;5;241m.\u001b[39m_input_request(\n\u001b[1;32m   1203\u001b[0m     \u001b[38;5;28mstr\u001b[39m(prompt),\n\u001b[1;32m   1204\u001b[0m     \u001b[38;5;28mself\u001b[39m\u001b[38;5;241m.\u001b[39m_parent_ident[\u001b[38;5;124m\"\u001b[39m\u001b[38;5;124mshell\u001b[39m\u001b[38;5;124m\"\u001b[39m],\n\u001b[1;32m   1205\u001b[0m     \u001b[38;5;28mself\u001b[39m\u001b[38;5;241m.\u001b[39mget_parent(\u001b[38;5;124m\"\u001b[39m\u001b[38;5;124mshell\u001b[39m\u001b[38;5;124m\"\u001b[39m),\n\u001b[1;32m   1206\u001b[0m     password\u001b[38;5;241m=\u001b[39m\u001b[38;5;28;01mFalse\u001b[39;00m,\n\u001b[1;32m   1207\u001b[0m )\n",
      "File \u001b[0;32m/opt/homebrew/anaconda3/lib/python3.11/site-packages/ipykernel/kernelbase.py:1245\u001b[0m, in \u001b[0;36mKernel._input_request\u001b[0;34m(self, prompt, ident, parent, password)\u001b[0m\n\u001b[1;32m   1242\u001b[0m \u001b[38;5;28;01mexcept\u001b[39;00m \u001b[38;5;167;01mKeyboardInterrupt\u001b[39;00m:\n\u001b[1;32m   1243\u001b[0m     \u001b[38;5;66;03m# re-raise KeyboardInterrupt, to truncate traceback\u001b[39;00m\n\u001b[1;32m   1244\u001b[0m     msg \u001b[38;5;241m=\u001b[39m \u001b[38;5;124m\"\u001b[39m\u001b[38;5;124mInterrupted by user\u001b[39m\u001b[38;5;124m\"\u001b[39m\n\u001b[0;32m-> 1245\u001b[0m     \u001b[38;5;28;01mraise\u001b[39;00m \u001b[38;5;167;01mKeyboardInterrupt\u001b[39;00m(msg) \u001b[38;5;28;01mfrom\u001b[39;00m \u001b[38;5;28;01mNone\u001b[39;00m\n\u001b[1;32m   1246\u001b[0m \u001b[38;5;28;01mexcept\u001b[39;00m \u001b[38;5;167;01mException\u001b[39;00m:\n\u001b[1;32m   1247\u001b[0m     \u001b[38;5;28mself\u001b[39m\u001b[38;5;241m.\u001b[39mlog\u001b[38;5;241m.\u001b[39mwarning(\u001b[38;5;124m\"\u001b[39m\u001b[38;5;124mInvalid Message:\u001b[39m\u001b[38;5;124m\"\u001b[39m, exc_info\u001b[38;5;241m=\u001b[39m\u001b[38;5;28;01mTrue\u001b[39;00m)\n",
      "\u001b[0;31mKeyboardInterrupt\u001b[0m: Interrupted by user"
     ]
    }
   ],
   "source": []
  },
  {
   "cell_type": "code",
   "execution_count": null,
   "metadata": {},
   "outputs": [],
   "source": []
  }
 ],
 "metadata": {
  "kernelspec": {
   "display_name": "Python 3",
   "language": "python",
   "name": "python3"
  },
  "language_info": {
   "codemirror_mode": {
    "name": "ipython",
    "version": 3
   },
   "file_extension": ".py",
   "mimetype": "text/x-python",
   "name": "python",
   "nbconvert_exporter": "python",
   "pygments_lexer": "ipython3",
   "version": "3.11.5"
  }
 },
 "nbformat": 4,
 "nbformat_minor": 2
}
