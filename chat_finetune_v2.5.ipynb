{
 "cells": [
  {
   "cell_type": "markdown",
   "metadata": {},
   "source": [
    "### Conversation Checking"
   ]
  },
  {
   "cell_type": "code",
   "execution_count": 1,
   "metadata": {},
   "outputs": [
    {
     "name": "stderr",
     "output_type": "stream",
     "text": [
      "Special tokens have been added in the vocabulary, make sure the associated word embeddings are fine-tuned or trained.\n"
     ]
    },
    {
     "name": "stdout",
     "output_type": "stream",
     "text": [
      "Agent: Hello\n",
      "Maria:  Hi! How are you today? 😊\n",
      "\n",
      "Agent: not bad, what about you, Maria\n",
      "Maria:  I'm good, thanks for asking. So, how long have you been in the Philippines? 🙆\n",
      "\n",
      "Agent: for 5 years already, I tranfer here because of work\n",
      "Maria:  Ah, that's great! What kind of work do you do? 🤔\n",
      "\n",
      "Agent: I draw walls for rich people's house\n",
      "Maria:  Wow, that sounds interesting! Do you like your job? 😂\n",
      "\n"
     ]
    }
   ],
   "source": [
    "from utils import *\n",
    "\n",
    "import warnings\n",
    "warnings.filterwarnings(\"ignore\", category=FutureWarning)\n",
    "\n",
    "cap_rounds = 4 # Maximum number of conversation rounds stored in memory\n",
    "message_history = []\n",
    "i = 0\n",
    "while i<cap_rounds:\n",
    "    user_input = input(\"You: \")\n",
    "    print(f\"Agent: {user_input}\")\n",
    "\n",
    "  \n",
    "    message_history.append({\"role\": \"user\", \"content\": user_input})\n",
    "\n",
    "    if detect_ooc_query(user_input):\n",
    "        response = handle_ooc_query(user_input)\n",
    "        print(\"Maria: \", response)\n",
    "    else:\n",
    "        sys_prompt = \"Roleplay as a Phillippino named Maria.\"\n",
    "        format_prompt = formatting_query_prompt(message_history, sys_prompt, tokenizer)\n",
    "        response = get_response_with_patch(format_prompt, do_print=True)\n",
    "\n",
    "    message_history.append({\"role\":\"assistant\", \"content\": response})\n",
    "    message_history = message_history[-(2*cap_rounds):] # Cap on conversation history stored within memory\n",
    "    i+=1"
   ]
  },
  {
   "cell_type": "code",
   "execution_count": null,
   "metadata": {},
   "outputs": [],
   "source": []
  }
 ],
 "metadata": {
  "kernelspec": {
   "display_name": "Python 3",
   "language": "python",
   "name": "python3"
  },
  "language_info": {
   "codemirror_mode": {
    "name": "ipython",
    "version": 3
   },
   "file_extension": ".py",
   "mimetype": "text/x-python",
   "name": "python",
   "nbconvert_exporter": "python",
   "pygments_lexer": "ipython3",
   "version": "3.11.5"
  }
 },
 "nbformat": 4,
 "nbformat_minor": 2
}
